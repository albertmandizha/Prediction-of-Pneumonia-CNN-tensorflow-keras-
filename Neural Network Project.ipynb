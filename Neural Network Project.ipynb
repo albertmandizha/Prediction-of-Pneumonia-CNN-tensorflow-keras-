{
 "cells": [
  {
   "cell_type": "markdown",
   "id": "4d0abbb6",
   "metadata": {},
   "source": [
    "# loading the Dataset"
   ]
  },
  {
   "cell_type": "code",
   "execution_count": 1,
   "id": "46911360",
   "metadata": {},
   "outputs": [
    {
     "name": "stdout",
     "output_type": "stream",
     "text": [
      "['.DS_Store', 'test', 'chest_xray', 'train', 'val']\n"
     ]
    }
   ],
   "source": [
    "import os\n",
    "print(os.listdir('/Users/ranjanmishra/Desktop/Ranjan/chest_xray'))\n"
   ]
  },
  {
   "cell_type": "code",
   "execution_count": 2,
   "id": "81fe0483",
   "metadata": {},
   "outputs": [
    {
     "name": "stdout",
     "output_type": "stream",
     "text": [
      "['.DS_Store', 'test', 'chest_xray', 'train', 'val']\n"
     ]
    }
   ],
   "source": [
    "#lets explore the directories where our data is sitting\n",
    "DIRECTORY=os.listdir('/Users/ranjanmishra/Desktop/Ranjan/chest_xray')\n",
    "print(DIRECTORY)"
   ]
  },
  {
   "cell_type": "code",
   "execution_count": 3,
   "id": "a07ec98c",
   "metadata": {},
   "outputs": [],
   "source": [
    "#loading our data from its locations\n",
    "train_folder = '/Users/ranjanmishra/Desktop/Ranjan/chest_xray/train'\n",
    "test_folder = '/Users/ranjanmishra/Desktop/Ranjan/chest_xray/test'\n",
    "val_folder = '/Users/ranjanmishra/Desktop/Ranjan/chest_xray/val'"
   ]
  },
  {
   "cell_type": "markdown",
   "id": "a9096670",
   "metadata": {},
   "source": [
    "## Importing Libraries"
   ]
  },
  {
   "cell_type": "code",
   "execution_count": null,
   "id": "b2f3634c",
   "metadata": {},
   "outputs": [],
   "source": [
    "import numpy as np\n",
    "import pandas as pd\n",
    "import seaborn as sns\n",
    "import matplotlib.pyplot as plt\n",
    "#import cv2\n",
    "\n",
    "# Getting rid of Tensorflow Cuda warnings\n",
    "import os\n",
    "os.environ ['TF_CPP_MIN_LOG_LEVEL']='3'\n",
    "\n",
    "#Import Warnings\n",
    "import warnings\n",
    "warnings.filterwarnings('ignore')\n",
    "\n",
    "\n",
    "import tensorflow as tf\n",
    "from tensorflow import keras\n",
    "from tensorflow.keras.utils import load_img, img_to_array\n"
   ]
  },
  {
   "cell_type": "code",
   "execution_count": null,
   "id": "4649ed3f",
   "metadata": {},
   "outputs": [],
   "source": [
    "\n",
    "\n"
   ]
  },
  {
   "cell_type": "code",
   "execution_count": null,
   "id": "26d79373",
   "metadata": {},
   "outputs": [],
   "source": []
  },
  {
   "cell_type": "code",
   "execution_count": null,
   "id": "7938f79c",
   "metadata": {},
   "outputs": [],
   "source": []
  }
 ],
 "metadata": {
  "kernelspec": {
   "display_name": "Python 3 (ipykernel)",
   "language": "python",
   "name": "python3"
  },
  "language_info": {
   "codemirror_mode": {
    "name": "ipython",
    "version": 3
   },
   "file_extension": ".py",
   "mimetype": "text/x-python",
   "name": "python",
   "nbconvert_exporter": "python",
   "pygments_lexer": "ipython3",
   "version": "3.9.13"
  }
 },
 "nbformat": 4,
 "nbformat_minor": 5
}
